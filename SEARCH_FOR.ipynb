{
 "cells": [
  {
   "cell_type": "markdown",
   "id": "059c8d0c",
   "metadata": {},
   "source": [
    "- tf.keras.utils.get_file  (used in https://www.tensorflow.org/tutorials/load_data/images)\n",
    "- tf.data.Dataset.from_generator (used in https://www.tensorflow.org/api_docs/python/tf/data/Dataset#map)\n",
    "- tf.TypeSpec (https://www.tensorflow.org/api_docs/python/tf/TypeSpec)\n",
    "    - tf.TensorSpec - https://www.tensorflow.org/api_docs/python/tf/TensorSpec\n",
    "    - tf.RaggedTensorSpec - https://www.tensorflow.org/api_docs/python/tf/RaggedTensorSpec\n",
    "- tf.data.DataSet - https://www.tensorflow.org/api_docs/python/tf/data/Dataset\n",
    "- tf.numpy_function - https://www.tensorflow.org/api_docs/python/tf/numpy_function  \n",
    "-  dataset `zip` - https://www.tensorflow.org/api_docs/python/tf/data/Dataset\n",
    "-  tf.py_function (seen in map)\n",
    "-  \n",
    "- \n",
    "-  \n",
    "- \n",
    "-  \n",
    "-  \n",
    "- \n",
    "-  tf.GradientTape (https://www.tensorflow.org/api_docs/python/tf/GradientTape)\n",
    "- https://en.wikipedia.org/wiki/Automatic_differentiation\n",
    "-  \n",
    "-  \n",
    "- \n",
    "-  \n",
    "- \n",
    "-  \n",
    "-  \n",
    "- \n",
    "-  \n",
    "- \n",
    "-  \n",
    "-  \n",
    "- \n",
    "-  \n",
    "- \n",
    "-  \n",
    "-  \n",
    "- \n",
    "-  \n",
    "- \n",
    "-  @tf.function "
   ]
  },
  {
   "cell_type": "markdown",
   "id": "74371d07",
   "metadata": {},
   "source": []
  },
  {
   "cell_type": "markdown",
   "id": "71eed534",
   "metadata": {},
   "source": []
  },
  {
   "cell_type": "markdown",
   "id": "7b9c3e5a",
   "metadata": {},
   "source": []
  },
  {
   "cell_type": "markdown",
   "id": "d78ac88a",
   "metadata": {},
   "source": []
  },
  {
   "cell_type": "markdown",
   "id": "2072fec6",
   "metadata": {},
   "source": []
  },
  {
   "cell_type": "markdown",
   "id": "93e3cee0",
   "metadata": {},
   "source": []
  },
  {
   "cell_type": "markdown",
   "id": "cf5f6a3e",
   "metadata": {},
   "source": []
  },
  {
   "cell_type": "markdown",
   "id": "24f6d633",
   "metadata": {},
   "source": []
  },
  {
   "cell_type": "markdown",
   "id": "a5b3312d",
   "metadata": {},
   "source": []
  },
  {
   "cell_type": "markdown",
   "id": "c006130e",
   "metadata": {},
   "source": []
  },
  {
   "cell_type": "markdown",
   "id": "12bc453c",
   "metadata": {},
   "source": []
  },
  {
   "cell_type": "markdown",
   "id": "e121fa0b",
   "metadata": {},
   "source": []
  },
  {
   "cell_type": "markdown",
   "id": "3b8a6d6c",
   "metadata": {},
   "source": []
  },
  {
   "cell_type": "markdown",
   "id": "249135c5",
   "metadata": {},
   "source": []
  },
  {
   "cell_type": "markdown",
   "id": "b42bb331",
   "metadata": {},
   "source": []
  },
  {
   "cell_type": "markdown",
   "id": "b5c65b4a",
   "metadata": {},
   "source": []
  },
  {
   "cell_type": "markdown",
   "id": "e2b92774",
   "metadata": {},
   "source": []
  },
  {
   "cell_type": "markdown",
   "id": "75de8a72",
   "metadata": {},
   "source": []
  },
  {
   "cell_type": "markdown",
   "id": "28eba631",
   "metadata": {},
   "source": []
  },
  {
   "cell_type": "code",
   "execution_count": null,
   "id": "98cc6dd5",
   "metadata": {},
   "outputs": [],
   "source": []
  }
 ],
 "metadata": {
  "kernelspec": {
   "display_name": "Python 3 (ipykernel)",
   "language": "python",
   "name": "python3"
  },
  "language_info": {
   "codemirror_mode": {
    "name": "ipython",
    "version": 3
   },
   "file_extension": ".py",
   "mimetype": "text/x-python",
   "name": "python",
   "nbconvert_exporter": "python",
   "pygments_lexer": "ipython3",
   "version": "3.8.11"
  }
 },
 "nbformat": 4,
 "nbformat_minor": 5
}
