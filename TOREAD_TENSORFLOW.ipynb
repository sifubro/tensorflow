{
 "cells": [
  {
   "cell_type": "markdown",
   "id": "e1dd4bf2",
   "metadata": {},
   "source": [
    "- - bucket_by_sequence_length (https://www.tensorflow.org/api_docs/python/tf/data/Dataset#bucket_by_sequence_length)\n",
    "- cardinality\n",
    "- get_single_element\n",
    "- group_by_window\n",
    "- **interleave**\n",
    "- list_files\n",
    "- shard\n",
    "- skip\n",
    "- snapshot\n",
    "- unbatch\n",
    "- unique\n",
    "- window\n",
    "- \n",
    "- \n",
    "https://www.tensorflow.org/api_docs/python/tf/TensorArray\n",
    "\n",
    "\n",
    "- tf.SparseTensor https://www.tensorflow.org/api_docs/python/tf/sparse/SparseTensor\n",
    "- tf.RaggedTensor\n",
    "- https://www.tensorflow.org/api_docs/python/tf/dtypes/DType\n",
    "- https://www.tensorflow.org/api_docs/python/tf/register_tensor_conversion_function\n",
    "- \n",
    "- \n",
    "- tf.nest\n",
    "\n",
    "- AUTOGRAPH  https://github.com/tensorflow/tensorflow/blob/master/tensorflow/python/autograph/g3doc/reference/control_flow.md#if-statements\n",
    "\n",
    "- \n",
    "\n",
    "- https://www.tensorflow.org/api_docs/python/tf/debugging\n",
    "\n",
    "-  Unicode  https://www.tensorflow.org/text/guide/unicode\n",
    "-  tf.io https://www.tensorflow.org/api_docs/python/tf/io\n",
    "\n",
    "- tf.Operation  https://www.tensorflow.org/api_docs/python/tf/Operation\n",
    "- tf.raw_ops https://www.tensorflow.org/api_docs/python/tf/raw_ops\n",
    "- tf.RegisterGradient\n",
    " https://www.tensorflow.org/api_docs/python/tf/RegisterGradient\n",
    "\n",
    "\n",
    "- https://www.tensorflow.org/guide/distributed_training\n",
    "\n",
    "- \n",
    "- Dataset.padded_batch (https://www.tensorflow.org/api_docs/python/tf/data/Dataset#padded_batch)\n",
    "- dataset.make_one_shot_iterator()\n",
    "\n",
    "- ImageDataGenerator (https://www.tensorflow.org/api_docs/python/tf/keras/preprocessing/image/ImageDataGenerator)"
   ]
  }
 ],
 "metadata": {
  "kernelspec": {
   "display_name": "Python 3 (ipykernel)",
   "language": "python",
   "name": "python3"
  },
  "language_info": {
   "codemirror_mode": {
    "name": "ipython",
    "version": 3
   },
   "file_extension": ".py",
   "mimetype": "text/x-python",
   "name": "python",
   "nbconvert_exporter": "python",
   "pygments_lexer": "ipython3",
   "version": "3.8.11"
  }
 },
 "nbformat": 4,
 "nbformat_minor": 5
}
