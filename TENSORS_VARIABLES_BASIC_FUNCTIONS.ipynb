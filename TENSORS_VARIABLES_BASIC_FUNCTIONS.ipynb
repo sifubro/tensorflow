{
 "cells": [
  {
   "cell_type": "code",
   "execution_count": 1,
   "id": "737e5e31",
   "metadata": {},
   "outputs": [],
   "source": [
    "import tensorflow as tf\n",
    "import numpy as np"
   ]
  },
  {
   "cell_type": "markdown",
   "id": "403ff46d",
   "metadata": {},
   "source": [
    "https://www.tensorflow.org/guide/tensor\n",
    "\n",
    "Tensors are multi-dimensional arrays with a **uniform type (called a dtype)**. You can see all supported dtypes at `tf.dtypes.DType` (https://www.tensorflow.org/api_docs/python/tf/dtypes/DType).\n",
    "\n",
    "**All tensors are immutable** like Python numbers and strings: you **can never update the contents of a tensor**, only create a new one."
   ]
  },
  {
   "cell_type": "code",
   "execution_count": 3,
   "id": "fe30ee2a",
   "metadata": {},
   "outputs": [
    {
     "data": {
      "text/plain": [
       "array([[[ 0,  1,  2,  3,  4],\n",
       "        [ 5,  6,  7,  8,  9]],\n",
       "\n",
       "       [[10, 11, 12, 13, 14],\n",
       "        [15, 16, 17, 18, 19]],\n",
       "\n",
       "       [[20, 21, 22, 23, 24],\n",
       "        [25, 26, 27, 28, 29]]])"
      ]
     },
     "execution_count": 3,
     "metadata": {},
     "output_type": "execute_result"
    }
   ],
   "source": [
    "rank_3_tensor = tf.constant([\n",
    "  [[0, 1, 2, 3, 4],\n",
    "   [5, 6, 7, 8, 9]],\n",
    "  [[10, 11, 12, 13, 14],\n",
    "   [15, 16, 17, 18, 19]],\n",
    "  [[20, 21, 22, 23, 24],\n",
    "   [25, 26, 27, 28, 29]],])\n",
    "\n",
    "rank_3_tensor.numpy()"
   ]
  },
  {
   "cell_type": "markdown",
   "id": "a565320d",
   "metadata": {},
   "source": [
    "### Basic math on tensors"
   ]
  },
  {
   "cell_type": "code",
   "execution_count": 10,
   "id": "6bc6c839",
   "metadata": {},
   "outputs": [],
   "source": [
    "a = tf.constant([[1, 2],\n",
    "                 [3, 4]], dtype=tf.float32)\n",
    "b = tf.constant([[1, 1],\n",
    "                 [1, 1]], dtype=tf.float32) # Could have also said `tf.ones([2,2])`"
   ]
  },
  {
   "cell_type": "code",
   "execution_count": 11,
   "id": "078bb8df",
   "metadata": {},
   "outputs": [
    {
     "name": "stdout",
     "output_type": "stream",
     "text": [
      "tf.Tensor(\n",
      "[[2. 3.]\n",
      " [4. 5.]], shape=(2, 2), dtype=float32) \n",
      "\n",
      "tf.Tensor(\n",
      "[[1. 2.]\n",
      " [3. 4.]], shape=(2, 2), dtype=float32) \n",
      "\n",
      "tf.Tensor(\n",
      "[[3. 3.]\n",
      " [7. 7.]], shape=(2, 2), dtype=float32) \n",
      "\n"
     ]
    }
   ],
   "source": [
    "print(tf.add(a, b), \"\\n\")\n",
    "print(tf.multiply(a, b), \"\\n\")\n",
    "print(tf.matmul(a, b), \"\\n\")\n",
    "\n",
    "# print(a + b, \"\\n\") # element-wise addition\n",
    "# print(a * b, \"\\n\") # element-wise multiplication\n",
    "# print(a @ b, \"\\n\") # matrix multiplication"
   ]
  },
  {
   "cell_type": "code",
   "execution_count": 19,
   "id": "644b4f3d",
   "metadata": {},
   "outputs": [
    {
     "name": "stdout",
     "output_type": "stream",
     "text": [
      "tf.Tensor(\n",
      "[[1]\n",
      " [2]\n",
      " [3]], shape=(3, 1), dtype=int32) \n",
      "\n",
      "tf.Tensor([1 2 3 4], shape=(4,), dtype=int32) \n",
      "\n",
      "tf.Tensor(\n",
      "[[ 1  2  3  4]\n",
      " [ 2  4  6  8]\n",
      " [ 3  6  9 12]], shape=(3, 4), dtype=int32)\n"
     ]
    }
   ],
   "source": [
    "\n",
    "# BROADCASTING\n",
    "#In this case a 3x1 matrix is element-wise multiplied by a 1x4 matrix to produce a 3x4 matrix. \n",
    "#Note how the leading 1 is optional: The shape of y is [4].\n",
    "\n",
    "# These are the same computations\n",
    "x = tf.reshape(x,[3,1])\n",
    "y = tf.range(1, 5)\n",
    "print(x, \"\\n\")\n",
    "print(y, \"\\n\")\n",
    "print(tf.multiply(x, y))"
   ]
  },
  {
   "cell_type": "code",
   "execution_count": 20,
   "id": "c1704982",
   "metadata": {},
   "outputs": [
    {
     "name": "stdout",
     "output_type": "stream",
     "text": [
      "tf.Tensor(\n",
      "[[1 2 3]\n",
      " [1 2 3]\n",
      " [1 2 3]], shape=(3, 3), dtype=int32)\n"
     ]
    }
   ],
   "source": [
    "print(tf.broadcast_to(tf.constant([1, 2, 3]), [3, 3]))"
   ]
  },
  {
   "cell_type": "code",
   "execution_count": 21,
   "id": "02b53f5f",
   "metadata": {},
   "outputs": [
    {
     "name": "stdout",
     "output_type": "stream",
     "text": [
      "tf.Tensor([2 4 6], shape=(3,), dtype=int32)\n",
      "tf.Tensor([2 4 6], shape=(3,), dtype=int32)\n",
      "tf.Tensor([2 4 6], shape=(3,), dtype=int32)\n"
     ]
    }
   ],
   "source": [
    "x = tf.constant([1, 2, 3])\n",
    "\n",
    "y = tf.constant(2)\n",
    "z = tf.constant([2, 2, 2])\n",
    "# All of these are the same computation\n",
    "print(tf.multiply(x, 2))\n",
    "print(x * y)\n",
    "print(x * z)"
   ]
  },
  {
   "cell_type": "code",
   "execution_count": 9,
   "id": "49180133",
   "metadata": {},
   "outputs": [
    {
     "name": "stdout",
     "output_type": "stream",
     "text": [
      "tf.Tensor(4.0, shape=(), dtype=float32)\n",
      "tf.Tensor([1 1], shape=(2,), dtype=int64)\n",
      "tf.Tensor(\n",
      "[[0.26894143 0.73105854]\n",
      " [0.26894143 0.73105854]], shape=(2, 2), dtype=float32)\n"
     ]
    }
   ],
   "source": [
    "# Find the largest value\n",
    "print(tf.reduce_max(a))\n",
    "# Find the index of the largest value\n",
    "print(tf.argmax(a))\n",
    "# Compute the softmax\n",
    "print(tf.nn.softmax(a))"
   ]
  },
  {
   "attachments": {
    "image.png": {
     "image/png": "[encoded data removed]"
    }
   },
   "cell_type": "markdown",
   "id": "e8fbc45f",
   "metadata": {},
   "source": [
    "![image.png](attachment:image.png)"
   ]
  },
  {
   "cell_type": "code",
   "execution_count": 14,
   "id": "b07c371f",
   "metadata": {},
   "outputs": [
    {
     "name": "stdout",
     "output_type": "stream",
     "text": [
      "(3, 1)\n"
     ]
    }
   ],
   "source": [
    "x = tf.constant([[1], [2], [3]])\n",
    "print(x.shape)"
   ]
  },
  {
   "cell_type": "markdown",
   "id": "af6259e1",
   "metadata": {},
   "source": [
    "You can reshape a tensor into a new shape. The tf.reshape operation is fast and cheap as the underlying data does not need to be duplicated."
   ]
  },
  {
   "cell_type": "code",
   "execution_count": 15,
   "id": "6647b3ad",
   "metadata": {},
   "outputs": [
    {
     "name": "stdout",
     "output_type": "stream",
     "text": [
      "(3, 1)\n",
      "(1, 3)\n"
     ]
    }
   ],
   "source": [
    "# You can reshape a tensor to a new shape.\n",
    "# Note that you're passing in a list\n",
    "reshaped = tf.reshape(x, [1, 3])\n",
    "\n",
    "print(x.shape)\n",
    "print(reshaped.shape)"
   ]
  },
  {
   "cell_type": "markdown",
   "id": "0bf08b5e",
   "metadata": {},
   "source": [
    "The data maintains its layout in memory and a new tensor is created, with the requested shape, pointing to the same data. TensorFlow uses C-style \"row-major\" memory ordering, where incrementing the rightmost index corresponds to a single step in memory."
   ]
  },
  {
   "cell_type": "markdown",
   "id": "bd559338",
   "metadata": {},
   "source": [
    "If you **flatten a tensor** you can see what order it is laid out in memory."
   ]
  },
  {
   "cell_type": "code",
   "execution_count": 16,
   "id": "03e7bc27",
   "metadata": {},
   "outputs": [
    {
     "name": "stdout",
     "output_type": "stream",
     "text": [
      "tf.Tensor(\n",
      "[ 0  1  2  3  4  5  6  7  8  9 10 11 12 13 14 15 16 17 18 19 20 21 22 23\n",
      " 24 25 26 27 28 29], shape=(30,), dtype=int32)\n"
     ]
    }
   ],
   "source": [
    "# A `-1` passed in the `shape` argument says \"Whatever fits\".\n",
    "print(tf.reshape(rank_3_tensor, [-1]))"
   ]
  },
  {
   "cell_type": "code",
   "execution_count": 17,
   "id": "626beb34",
   "metadata": {},
   "outputs": [
    {
     "name": "stdout",
     "output_type": "stream",
     "text": [
      "tf.Tensor(\n",
      "[[ 0  1  2  3  4]\n",
      " [ 5  6  7  8  9]\n",
      " [10 11 12 13 14]\n",
      " [15 16 17 18 19]\n",
      " [20 21 22 23 24]\n",
      " [25 26 27 28 29]], shape=(6, 5), dtype=int32) \n",
      "\n",
      "tf.Tensor(\n",
      "[[ 0  1  2  3  4  5  6  7  8  9]\n",
      " [10 11 12 13 14 15 16 17 18 19]\n",
      " [20 21 22 23 24 25 26 27 28 29]], shape=(3, 10), dtype=int32)\n"
     ]
    }
   ],
   "source": [
    "print(tf.reshape(rank_3_tensor, [3*2, 5]), \"\\n\")\n",
    "print(tf.reshape(rank_3_tensor, [3, -1]))"
   ]
  },
  {
   "cell_type": "markdown",
   "id": "185cf60e",
   "metadata": {},
   "source": [
    "### `tf.gather`\n",
    "\n",
    "https://www.tensorflow.org/api_docs/python/tf/gather"
   ]
  },
  {
   "cell_type": "code",
   "execution_count": 4,
   "id": "8df90d91",
   "metadata": {},
   "outputs": [
    {
     "name": "stdout",
     "output_type": "stream",
     "text": [
      "b'p3'\n"
     ]
    },
    {
     "data": {
      "text/plain": [
       "b'p3'"
      ]
     },
     "execution_count": 4,
     "metadata": {},
     "output_type": "execute_result"
    }
   ],
   "source": [
    "params = tf.constant(['p0', 'p1', 'p2', 'p3', 'p4', 'p5'])\n",
    "print(params[3].numpy())\n",
    "\n",
    "tf.gather(params, 3).numpy()"
   ]
  },
  {
   "cell_type": "code",
   "execution_count": 5,
   "id": "a444c7d3",
   "metadata": {},
   "outputs": [
    {
     "data": {
      "text/plain": [
       "array([b'p2', b'p0', b'p2', b'p5'], dtype=object)"
      ]
     },
     "execution_count": 5,
     "metadata": {},
     "output_type": "execute_result"
    }
   ],
   "source": [
    "indices = [2, 0, 2, 5]\n",
    "tf.gather(params, indices).numpy()"
   ]
  },
  {
   "cell_type": "code",
   "execution_count": 6,
   "id": "be8e99a5",
   "metadata": {},
   "outputs": [
    {
     "data": {
      "text/plain": [
       "array([[b'p2', b'p0'],\n",
       "       [b'p2', b'p5']], dtype=object)"
      ]
     },
     "execution_count": 6,
     "metadata": {},
     "output_type": "execute_result"
    }
   ],
   "source": [
    "tf.gather(params, [[2, 0], [2, 5]]).numpy()"
   ]
  },
  {
   "cell_type": "code",
   "execution_count": 7,
   "id": "b5be8759",
   "metadata": {},
   "outputs": [
    {
     "data": {
      "text/plain": [
       "array([[30., 31., 32.],\n",
       "       [10., 11., 12.]], dtype=float32)"
      ]
     },
     "execution_count": 7,
     "metadata": {},
     "output_type": "execute_result"
    }
   ],
   "source": [
    "params = tf.constant([[0, 1.0, 2.0],\n",
    "                      [10.0, 11.0, 12.0],\n",
    "                      [20.0, 21.0, 22.0],\n",
    "                      [30.0, 31.0, 32.0]])\n",
    "\n",
    "tf.gather(params, indices=[3,1]).numpy()"
   ]
  },
  {
   "cell_type": "code",
   "execution_count": 8,
   "id": "d7e7df8b",
   "metadata": {},
   "outputs": [
    {
     "data": {
      "text/plain": [
       "array([[ 2.,  1.],\n",
       "       [12., 11.],\n",
       "       [22., 21.],\n",
       "       [32., 31.]], dtype=float32)"
      ]
     },
     "execution_count": 8,
     "metadata": {},
     "output_type": "execute_result"
    }
   ],
   "source": [
    "tf.gather(params, indices=[2,1], axis=1).numpy()"
   ]
  },
  {
   "cell_type": "code",
   "execution_count": null,
   "id": "2198b2f1",
   "metadata": {},
   "outputs": [],
   "source": []
  },
  {
   "cell_type": "markdown",
   "id": "2cf87cc2",
   "metadata": {},
   "source": [
    "### `tf.cond`"
   ]
  },
  {
   "cell_type": "raw",
   "id": "7b0d0ebc",
   "metadata": {},
   "source": [
    "AutoGraph will convert some if <condition> statements into the equivalent tf.cond calls. This substitution is made if <condition> is a Tensor. Otherwise, the if statement is executed as a Python conditional.\n",
    "\n",
    "A Python conditional executes during tracing, so exactly one branch of the conditional will be added to the graph. Without AutoGraph, this traced graph would be unable to take the alternate branch if there is data-dependent control flow.\n",
    "\n",
    "tf.cond traces and adds both branches of the conditional to the graph, dynamically selecting a branch at execution time. Tracing can have unintended side effects; check out AutoGraph tracing effects for more information."
   ]
  },
  {
   "cell_type": "code",
   "execution_count": null,
   "id": "d588e458",
   "metadata": {},
   "outputs": [],
   "source": []
  },
  {
   "cell_type": "markdown",
   "id": "dd23571b",
   "metadata": {},
   "source": [
    "### `tf.while_loop`"
   ]
  },
  {
   "cell_type": "raw",
   "id": "48850ad5",
   "metadata": {},
   "source": [
    "AutoGraph will convert some for and while statements into the equivalent TensorFlow looping ops, like tf.while_loop. If not converted, the for or while loop is executed as a Python loop.\n",
    "\n",
    "This substitution is made in the following situations:\n",
    "\n",
    "for x in y: if y is a Tensor, convert to tf.while_loop. In the special case where y is a tf.data.Dataset, a combination of tf.data.Dataset ops are generated.\n",
    "while <condition>: if <condition> is a Tensor, convert to tf.while_loop.\n",
    "A Python loop executes during tracing, adding additional ops to the tf.Graph for every iteration of the loop.\n",
    "\n",
    "A TensorFlow loop traces the body of the loop, and dynamically selects how many iterations to run at execution time. The loop body only appears once in the generated tf.Graph."
   ]
  },
  {
   "cell_type": "code",
   "execution_count": null,
   "id": "cca7bd7f",
   "metadata": {},
   "outputs": [],
   "source": []
  },
  {
   "cell_type": "markdown",
   "id": "76441426",
   "metadata": {},
   "source": [
    "###  `tf.TensorArray`\n",
    "\n",
    "for list constructs"
   ]
  },
  {
   "cell_type": "code",
   "execution_count": 22,
   "id": "74824d83",
   "metadata": {},
   "outputs": [],
   "source": [
    "ta = tf.TensorArray(tf.float32, size=0, dynamic_size=True, clear_after_read=False)\n",
    "ta = ta.write(0, 10)\n",
    "ta = ta.write(1, 20)\n",
    "ta = ta.write(2, 30)"
   ]
  },
  {
   "cell_type": "code",
   "execution_count": 23,
   "id": "fb2b7a1a",
   "metadata": {},
   "outputs": [
    {
     "data": {
      "text/plain": [
       "(<tf.Tensor: shape=(), dtype=float32, numpy=10.0>,\n",
       " <tf.Tensor: shape=(), dtype=float32, numpy=20.0>,\n",
       " <tf.Tensor: shape=(), dtype=float32, numpy=30.0>)"
      ]
     },
     "execution_count": 23,
     "metadata": {},
     "output_type": "execute_result"
    }
   ],
   "source": [
    "ta.read(0), ta.read(1), ta.read(2)"
   ]
  },
  {
   "cell_type": "code",
   "execution_count": 24,
   "id": "0f9053b5",
   "metadata": {},
   "outputs": [
    {
     "data": {
      "text/plain": [
       "<tf.Tensor: shape=(3,), dtype=float32, numpy=array([10., 20., 30.], dtype=float32)>"
      ]
     },
     "execution_count": 24,
     "metadata": {},
     "output_type": "execute_result"
    }
   ],
   "source": [
    "ta.stack()"
   ]
  },
  {
   "cell_type": "code",
   "execution_count": null,
   "id": "65aba4cb",
   "metadata": {},
   "outputs": [],
   "source": []
  },
  {
   "cell_type": "code",
   "execution_count": 29,
   "id": "c45f40c9",
   "metadata": {},
   "outputs": [],
   "source": [
    "ta = tf.TensorArray(tf.float32, size=0, dynamic_size=True, clear_after_read=False)"
   ]
  },
  {
   "cell_type": "code",
   "execution_count": 30,
   "id": "b38cae8f",
   "metadata": {},
   "outputs": [],
   "source": [
    "ta = ta.unstack([0., 1.])"
   ]
  },
  {
   "cell_type": "code",
   "execution_count": 31,
   "id": "4df7f069",
   "metadata": {},
   "outputs": [
    {
     "data": {
      "text/plain": [
       "(<tf.Tensor: shape=(), dtype=float32, numpy=0.0>,\n",
       " <tf.Tensor: shape=(), dtype=float32, numpy=1.0>)"
      ]
     },
     "execution_count": 31,
     "metadata": {},
     "output_type": "execute_result"
    }
   ],
   "source": [
    "ta.read(0), ta.read(1)"
   ]
  },
  {
   "cell_type": "code",
   "execution_count": 32,
   "id": "fb3b5100",
   "metadata": {},
   "outputs": [],
   "source": [
    "for i in range(2, 8):\n",
    "    ta = ta.write(i, ta.read(i - 1) + ta.read(i - 2))"
   ]
  },
  {
   "cell_type": "code",
   "execution_count": 33,
   "id": "fdc7e9a0",
   "metadata": {},
   "outputs": [
    {
     "data": {
      "text/plain": [
       "<tf.Tensor: shape=(8,), dtype=float32, numpy=array([ 0.,  1.,  1.,  2.,  3.,  5.,  8., 13.], dtype=float32)>"
      ]
     },
     "execution_count": 33,
     "metadata": {},
     "output_type": "execute_result"
    }
   ],
   "source": [
    "ta.stack()"
   ]
  },
  {
   "cell_type": "code",
   "execution_count": 36,
   "id": "0a52d5c6",
   "metadata": {},
   "outputs": [
    {
     "name": "stdout",
     "output_type": "stream",
     "text": [
      "<class 'int'>\r\n"
     ]
    },
    {
     "data": {
      "text/plain": [
       "<tf.Tensor: shape=(5,), dtype=int32, numpy=array([ 1,  2,  4,  7, 11])>"
      ]
     },
     "execution_count": 36,
     "metadata": {},
     "output_type": "execute_result"
    }
   ],
   "source": [
    "v = tf.Variable(1)\n",
    "@tf.function\n",
    "def f(x):\n",
    "    tf.print(type(x))\n",
    "    ta = tf.TensorArray(tf.int32, size=0, dynamic_size=True)\n",
    "    for i in tf.range(x):\n",
    "        v.assign_add(i)\n",
    "        ta = ta.write(i, v)\n",
    "    return ta.stack()\n",
    "\n",
    "f(5)"
   ]
  },
  {
   "cell_type": "code",
   "execution_count": null,
   "id": "6ba663c6",
   "metadata": {},
   "outputs": [],
   "source": []
  },
  {
   "cell_type": "markdown",
   "id": "02eea4e1",
   "metadata": {},
   "source": [
    "### `tf.data.Iterator` \n",
    "for iteration constructs"
   ]
  },
  {
   "cell_type": "code",
   "execution_count": null,
   "id": "7e695e92",
   "metadata": {},
   "outputs": [],
   "source": []
  },
  {
   "cell_type": "code",
   "execution_count": null,
   "id": "50af4ad1",
   "metadata": {},
   "outputs": [],
   "source": []
  },
  {
   "cell_type": "code",
   "execution_count": null,
   "id": "4ba489de",
   "metadata": {},
   "outputs": [],
   "source": []
  },
  {
   "cell_type": "markdown",
   "id": "acb64e7f",
   "metadata": {},
   "source": [
    "### Just like how TensorFlow has a specialized tf.TensorArray for list constructs, it has a specialized tf.data.Iterator for iteration constructs. See the section on AutoGraph transformations for an overview. Also, the tf.data API can help implement generator patterns:\n",
    "\n",
    "https://www.tensorflow.org/guide/function#using_python_iterators_and_generators"
   ]
  },
  {
   "cell_type": "code",
   "execution_count": null,
   "id": "ee4aaa9a",
   "metadata": {},
   "outputs": [],
   "source": [
    "@tf.function\n",
    "def good_consume_next(iterator):\n",
    "  # This is ok, iterator is a tf.data.Iterator\n",
    "  tf.print(\"Value:\", next(iterator))\n",
    "\n",
    "ds = tf.data.Dataset.from_tensor_slices([1, 2, 3])\n",
    "iterator = iter(ds)\n",
    "good_consume_next(iterator)\n",
    "good_consume_next(iterator)\n",
    "good_consume_next(iterator)"
   ]
  },
  {
   "cell_type": "code",
   "execution_count": null,
   "id": "20e23b73",
   "metadata": {},
   "outputs": [],
   "source": []
  },
  {
   "cell_type": "code",
   "execution_count": null,
   "id": "642d4c8e",
   "metadata": {},
   "outputs": [],
   "source": []
  },
  {
   "cell_type": "code",
   "execution_count": null,
   "id": "337677c6",
   "metadata": {},
   "outputs": [],
   "source": []
  },
  {
   "cell_type": "markdown",
   "id": "832ca01c",
   "metadata": {},
   "source": [
    "### `tf.range`"
   ]
  },
  {
   "cell_type": "code",
   "execution_count": null,
   "id": "408196fc",
   "metadata": {},
   "outputs": [],
   "source": [
    "batch_size = 2\n",
    "seq_len = 3\n",
    "feature_size = 4\n",
    "\n",
    "def rnn_step(inp, state):\n",
    "  return inp + state\n",
    "\n",
    "@tf.function\n",
    "def dynamic_rnn(rnn_step, input_data, initial_state):\n",
    "  # [batch, time, features] -> [time, batch, features]\n",
    "  input_data = tf.transpose(input_data, [1, 0, 2])\n",
    "  max_seq_len = input_data.shape[0]\n",
    "\n",
    "  states = tf.TensorArray(tf.float32, size=max_seq_len)\n",
    "  state = initial_state\n",
    "  for i in tf.range(max_seq_len):\n",
    "    state = rnn_step(input_data[i], state)\n",
    "    states = states.write(i, state)\n",
    "  return tf.transpose(states.stack(), [1, 0, 2])\n",
    "\n",
    "dynamic_rnn(rnn_step,\n",
    "            tf.random.uniform([batch_size, seq_len, feature_size]),\n",
    "            tf.zeros([batch_size, feature_size]))"
   ]
  },
  {
   "cell_type": "code",
   "execution_count": null,
   "id": "32e7d6e6",
   "metadata": {},
   "outputs": [],
   "source": []
  },
  {
   "cell_type": "markdown",
   "id": "9e6486b2",
   "metadata": {},
   "source": [
    "### `tf.cast`"
   ]
  },
  {
   "cell_type": "code",
   "execution_count": 18,
   "id": "0ef91d4b",
   "metadata": {},
   "outputs": [
    {
     "name": "stdout",
     "output_type": "stream",
     "text": [
      "tf.Tensor([2 3 4], shape=(3,), dtype=uint8)\n"
     ]
    }
   ],
   "source": [
    "the_f64_tensor = tf.constant([2.2, 3.3, 4.4], dtype=tf.float64)\n",
    "the_f16_tensor = tf.cast(the_f64_tensor, dtype=tf.float16)\n",
    "# Now, cast to an uint8 and lose the decimal precision\n",
    "the_u8_tensor = tf.cast(the_f16_tensor, dtype=tf.uint8)\n",
    "print(the_u8_tensor)"
   ]
  },
  {
   "cell_type": "markdown",
   "id": "13df0fd2",
   "metadata": {},
   "source": [
    "### `tf.convert_to_tensor`\n",
    "\n",
    "https://www.tensorflow.org/guide/tensor#tfconvert_to_tensor\n",
    "\n",
    "https://www.tensorflow.org/api_docs/python/tf/register_tensor_conversion_function\n"
   ]
  },
  {
   "cell_type": "code",
   "execution_count": null,
   "id": "bb85b525",
   "metadata": {},
   "outputs": [],
   "source": []
  },
  {
   "cell_type": "code",
   "execution_count": null,
   "id": "a52d6461",
   "metadata": {},
   "outputs": [],
   "source": []
  },
  {
   "cell_type": "code",
   "execution_count": null,
   "id": "d0da2224",
   "metadata": {},
   "outputs": [],
   "source": []
  },
  {
   "cell_type": "markdown",
   "id": "ab067213",
   "metadata": {},
   "source": [
    "The base tf.Tensor class requires tensors to be \"rectangular\"---that is, along each axis, every element is the same size. However, there are specialized types of tensors that can handle different shapes:\n",
    "\n",
    "- Ragged tensors (see RaggedTensor below https://www.tensorflow.org/guide/tensor#ragged_tensors)\n",
    "- Sparse tensors (see SparseTensor below)"
   ]
  },
  {
   "cell_type": "code",
   "execution_count": 22,
   "id": "07f3a192",
   "metadata": {},
   "outputs": [
    {
     "name": "stdout",
     "output_type": "stream",
     "text": [
      "<tf.RaggedTensor [[0, 1, 2, 3], [4, 5], [6, 7, 8], [9]]>\n"
     ]
    }
   ],
   "source": [
    "ragged_list = [\n",
    "    [0, 1, 2, 3],\n",
    "    [4, 5],\n",
    "    [6, 7, 8],\n",
    "    [9]]\n",
    "\n",
    "ragged_tensor = tf.ragged.constant(ragged_list)\n",
    "print(ragged_tensor)"
   ]
  },
  {
   "cell_type": "code",
   "execution_count": 23,
   "id": "c4466aa1",
   "metadata": {},
   "outputs": [
    {
     "name": "stdout",
     "output_type": "stream",
     "text": [
      "(4, None)\n"
     ]
    }
   ],
   "source": [
    "print(ragged_tensor.shape)"
   ]
  },
  {
   "cell_type": "markdown",
   "id": "dc0415a5",
   "metadata": {},
   "source": [
    "### Strings\n",
    "\n",
    "https://www.tensorflow.org/guide/tensor#string_tensors\n",
    "\n",
    "Unicode\n",
    "\n",
    "https://www.tensorflow.org/text/guide/unicode"
   ]
  },
  {
   "cell_type": "code",
   "execution_count": 24,
   "id": "4fc5d806",
   "metadata": {},
   "outputs": [
    {
     "name": "stdout",
     "output_type": "stream",
     "text": [
      "tf.Tensor([b'Gray wolf' b'Quick brown fox' b'Lazy dog'], shape=(3,), dtype=string)\n"
     ]
    }
   ],
   "source": [
    "# If you have three string tensors of different lengths, this is OK.\n",
    "tensor_of_strings = tf.constant([\"Gray wolf\",\n",
    "                                 \"Quick brown fox\",\n",
    "                                 \"Lazy dog\"])\n",
    "# Note that the shape is (3,). The string length is not included.\n",
    "print(tensor_of_strings)"
   ]
  },
  {
   "cell_type": "code",
   "execution_count": null,
   "id": "12b1f2cc",
   "metadata": {},
   "outputs": [],
   "source": []
  },
  {
   "cell_type": "markdown",
   "id": "1b2b035f",
   "metadata": {},
   "source": [
    "### Sparse tensors"
   ]
  },
  {
   "cell_type": "code",
   "execution_count": 25,
   "id": "ee85aabd",
   "metadata": {},
   "outputs": [
    {
     "name": "stdout",
     "output_type": "stream",
     "text": [
      "SparseTensor(indices=tf.Tensor(\n",
      "[[0 0]\n",
      " [1 2]], shape=(2, 2), dtype=int64), values=tf.Tensor([1 2], shape=(2,), dtype=int32), dense_shape=tf.Tensor([3 4], shape=(2,), dtype=int64)) \n",
      "\n",
      "tf.Tensor(\n",
      "[[1 0 0 0]\n",
      " [0 0 2 0]\n",
      " [0 0 0 0]], shape=(3, 4), dtype=int32)\n"
     ]
    }
   ],
   "source": [
    "# Sparse tensors store values by index in a memory-efficient manner\n",
    "sparse_tensor = tf.sparse.SparseTensor(indices=[[0, 0], [1, 2]],\n",
    "                                       values=[1, 2],\n",
    "                                       dense_shape=[3, 4])\n",
    "print(sparse_tensor, \"\\n\")\n",
    "\n",
    "# You can convert sparse tensors to dense\n",
    "print(tf.sparse.to_dense(sparse_tensor))"
   ]
  },
  {
   "cell_type": "code",
   "execution_count": null,
   "id": "0fb0ed41",
   "metadata": {},
   "outputs": [],
   "source": []
  },
  {
   "cell_type": "code",
   "execution_count": null,
   "id": "0b472ef1",
   "metadata": {},
   "outputs": [],
   "source": []
  },
  {
   "cell_type": "code",
   "execution_count": null,
   "id": "276fa8fc",
   "metadata": {},
   "outputs": [],
   "source": []
  },
  {
   "cell_type": "markdown",
   "id": "885d606a",
   "metadata": {},
   "source": [
    "## Variable\n",
    "\n",
    "https://www.tensorflow.org/guide/variable\n",
    "\n",
    "Variables are created and tracked via the tf.Variable class. A tf.Variable represents a tensor whose value can be changed by running ops on it. Specific ops allow you to read and modify the values of this tensor. Higher level libraries like tf.keras use tf.Variable to store model parameters."
   ]
  },
  {
   "cell_type": "code",
   "execution_count": 26,
   "id": "57c824b4",
   "metadata": {},
   "outputs": [],
   "source": [
    "# Uncomment to see where your variables get placed (see below)\n",
    "tf.debugging.set_log_device_placement(True)"
   ]
  },
  {
   "cell_type": "code",
   "execution_count": 27,
   "id": "f549d6fd",
   "metadata": {},
   "outputs": [],
   "source": [
    "my_tensor = tf.constant([[1.0, 2.0], [3.0, 4.0]])\n",
    "my_variable = tf.Variable(my_tensor)\n",
    "\n",
    "# Variables can be all kinds of types, just like tensors\n",
    "bool_variable = tf.Variable([False, False, False, True])\n",
    "complex_variable = tf.Variable([5 + 4j, 6 + 1j])"
   ]
  },
  {
   "cell_type": "code",
   "execution_count": 28,
   "id": "eba9fdf9",
   "metadata": {},
   "outputs": [
    {
     "name": "stdout",
     "output_type": "stream",
     "text": [
      "Shape:  (2, 2)\n",
      "DType:  <dtype: 'float32'>\n",
      "As NumPy:  [[1. 2.]\n",
      " [3. 4.]]\n"
     ]
    }
   ],
   "source": [
    "print(\"Shape: \", my_variable.shape)\n",
    "print(\"DType: \", my_variable.dtype)\n",
    "print(\"As NumPy: \", my_variable.numpy())"
   ]
  },
  {
   "cell_type": "markdown",
   "id": "b5263d2e",
   "metadata": {},
   "source": [
    "### variables cannot be reshaped. Instead a new tensor is created!"
   ]
  },
  {
   "cell_type": "code",
   "execution_count": 29,
   "id": "a5947536",
   "metadata": {},
   "outputs": [
    {
     "name": "stdout",
     "output_type": "stream",
     "text": [
      "A variable: <tf.Variable 'Variable:0' shape=(2, 2) dtype=float32, numpy=\n",
      "array([[1., 2.],\n",
      "       [3., 4.]], dtype=float32)>\n",
      "\n",
      "Viewed as a tensor: tf.Tensor(\n",
      "[[1. 2.]\n",
      " [3. 4.]], shape=(2, 2), dtype=float32)\n",
      "\n",
      "Index of highest value: tf.Tensor([1 1], shape=(2,), dtype=int64)\n",
      "\n",
      "Copying and reshaping:  tf.Tensor([[1. 2. 3. 4.]], shape=(1, 4), dtype=float32)\n"
     ]
    }
   ],
   "source": [
    "print(\"A variable:\", my_variable)\n",
    "print(\"\\nViewed as a tensor:\", tf.convert_to_tensor(my_variable))\n",
    "print(\"\\nIndex of highest value:\", tf.argmax(my_variable))\n",
    "\n",
    "# This creates a new tensor; it does not reshape the variable.\n",
    "print(\"\\nCopying and reshaping: \", tf.reshape(my_variable, [1,4]))"
   ]
  },
  {
   "cell_type": "markdown",
   "id": "a00f2b80",
   "metadata": {},
   "source": [
    "As noted above, variables are backed by tensors. You can reassign the tensor using `tf.Variable.assign`. Calling assign does not (usually) allocate a new tensor; instead, the existing tensor's memory is reused."
   ]
  },
  {
   "cell_type": "code",
   "execution_count": 30,
   "id": "10443eb7",
   "metadata": {},
   "outputs": [
    {
     "name": "stdout",
     "output_type": "stream",
     "text": [
      "ValueError: Cannot assign to variable Variable:0 due to variable shape (2,) and value shape (3,) are incompatible\n"
     ]
    }
   ],
   "source": [
    "a = tf.Variable([2.0, 3.0])\n",
    "# This will keep the same dtype, float32\n",
    "a.assign([1, 2]) \n",
    "# Not allowed as it resizes the variable: \n",
    "try:\n",
    "    a.assign([1.0, 2.0, 3.0])\n",
    "except Exception as e:\n",
    "    print(f\"{type(e).__name__}: {e}\")"
   ]
  },
  {
   "cell_type": "markdown",
   "id": "7742e555",
   "metadata": {},
   "source": [
    "**If you use a variable like a tensor in operations, you will usually operate on the backing tensor.**\n",
    "\n",
    "**Creating new variables from existing variables duplicates the backing tensors. Two variables will not share the same memory.**"
   ]
  },
  {
   "cell_type": "code",
   "execution_count": 31,
   "id": "54a293d2",
   "metadata": {},
   "outputs": [
    {
     "name": "stdout",
     "output_type": "stream",
     "text": [
      "[5. 6.]\n",
      "[2. 3.]\n",
      "[7. 9.]\n",
      "[0. 0.]\n"
     ]
    }
   ],
   "source": [
    "a = tf.Variable([2.0, 3.0])\n",
    "# Create b based on the value of a\n",
    "b = tf.Variable(a)\n",
    "a.assign([5, 6])\n",
    "\n",
    "# a and b are different\n",
    "print(a.numpy())\n",
    "print(b.numpy())\n",
    "\n",
    "# There are other versions of assign\n",
    "print(a.assign_add([2,3]).numpy())  # [7. 9.]\n",
    "print(a.assign_sub([7,9]).numpy())  # [0. 0.]~"
   ]
  },
  {
   "cell_type": "markdown",
   "id": "1f7f72a6",
   "metadata": {},
   "source": [
    "Variables can also be named which can help you track and debug them. You can give two variables the same name."
   ]
  },
  {
   "cell_type": "code",
   "execution_count": 32,
   "id": "3a8c4419",
   "metadata": {},
   "outputs": [
    {
     "name": "stdout",
     "output_type": "stream",
     "text": [
      "tf.Tensor(\n",
      "[[False False]\n",
      " [False False]], shape=(2, 2), dtype=bool)\n"
     ]
    }
   ],
   "source": [
    "# Create a and b; they will have the same name but will be backed by\n",
    "# different tensors.\n",
    "a = tf.Variable(my_tensor, name=\"Mark\")\n",
    "# A new variable with the same name, but different value\n",
    "# Note that the scalar add is broadcast\n",
    "b = tf.Variable(my_tensor + 1, name=\"Mark\")\n",
    "\n",
    "# These are elementwise-unequal, despite having the same name\n",
    "print(a == b)"
   ]
  },
  {
   "cell_type": "code",
   "execution_count": 33,
   "id": "15b83305",
   "metadata": {},
   "outputs": [],
   "source": [
    "#An example of a variable that would not need gradients is a training step counter\n",
    "\n",
    "step_counter = tf.Variable(1, trainable=False)"
   ]
  },
  {
   "cell_type": "markdown",
   "id": "8b4f75eb",
   "metadata": {},
   "source": [
    "### Place Variables on CPU or GPU"
   ]
  },
  {
   "cell_type": "code",
   "execution_count": 34,
   "id": "ba6a3d9b",
   "metadata": {},
   "outputs": [
    {
     "name": "stdout",
     "output_type": "stream",
     "text": [
      "tf.Tensor(\n",
      "[[22. 28.]\n",
      " [49. 64.]], shape=(2, 2), dtype=float32)\n"
     ]
    }
   ],
   "source": [
    "with tf.device('CPU:0'):\n",
    "\n",
    "    # Create some tensors\n",
    "    a = tf.Variable([[1.0, 2.0, 3.0], [4.0, 5.0, 6.0]])\n",
    "    b = tf.constant([[1.0, 2.0], [3.0, 4.0], [5.0, 6.0]])\n",
    "    c = tf.matmul(a, b)\n",
    "\n",
    "print(c)"
   ]
  },
  {
   "cell_type": "markdown",
   "id": "82e97dba",
   "metadata": {},
   "source": [
    "It's possible to set the location of a variable or tensor on one device and do the computation on another device. This will introduce delay, as data needs to be copied between the devices.\n",
    "\n",
    "You might do this, however, if you had multiple GPU workers but only want one copy of the variables."
   ]
  },
  {
   "cell_type": "code",
   "execution_count": 35,
   "id": "41f53068",
   "metadata": {},
   "outputs": [
    {
     "name": "stdout",
     "output_type": "stream",
     "text": [
      "tf.Tensor(\n",
      "[[ 1.  4.  9.]\n",
      " [ 4. 10. 18.]], shape=(2, 3), dtype=float32)\n"
     ]
    }
   ],
   "source": [
    "with tf.device('CPU:0'):\n",
    "    a = tf.Variable([[1.0, 2.0, 3.0], [4.0, 5.0, 6.0]])\n",
    "    b = tf.Variable([[1.0, 2.0, 3.0]])\n",
    "\n",
    "with tf.device('GPU:0'):\n",
    "    # Element-wise multiply\n",
    "    k = a * b\n",
    "\n",
    "print(k)"
   ]
  },
  {
   "cell_type": "code",
   "execution_count": null,
   "id": "518a435c",
   "metadata": {},
   "outputs": [],
   "source": []
  },
  {
   "cell_type": "code",
   "execution_count": null,
   "id": "e63179f5",
   "metadata": {},
   "outputs": [],
   "source": []
  },
  {
   "cell_type": "code",
   "execution_count": null,
   "id": "3cf91599",
   "metadata": {},
   "outputs": [],
   "source": []
  },
  {
   "cell_type": "code",
   "execution_count": null,
   "id": "8e694707",
   "metadata": {},
   "outputs": [],
   "source": []
  },
  {
   "cell_type": "code",
   "execution_count": null,
   "id": "03c26d4f",
   "metadata": {},
   "outputs": [],
   "source": []
  }
 ],
 "metadata": {
  "kernelspec": {
   "display_name": "Python 3 (ipykernel)",
   "language": "python",
   "name": "python3"
  },
  "language_info": {
   "codemirror_mode": {
    "name": "ipython",
    "version": 3
   },
   "file_extension": ".py",
   "mimetype": "text/x-python",
   "name": "python",
   "nbconvert_exporter": "python",
   "pygments_lexer": "ipython3",
   "version": "3.8.11"
  }
 },
 "nbformat": 4,
 "nbformat_minor": 5
}
